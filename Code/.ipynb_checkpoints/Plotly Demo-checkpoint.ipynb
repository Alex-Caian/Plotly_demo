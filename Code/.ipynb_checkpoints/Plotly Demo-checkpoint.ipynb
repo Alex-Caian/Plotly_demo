{
 "cells": [
  {
   "cell_type": "markdown",
   "id": "aedc5ad0",
   "metadata": {},
   "source": [
    "## Your first Plotly animation\n",
    "<a href = \"https://github.com/Alex-Caian/\" target=\"_blank\">\n",
    "    <img src = \"https://foundations.projectpythia.org/_images/GitHub-logo.png?raw=True\" width=\"75\" height=\"75\" align=\"right\"/>\n",
    "</a>\n",
    "<a href = \"https://www.linkedin.com/in/alex-caian-1519b4223/\" target=\"_blank\">\n",
    "    <img src = \"https://upload.wikimedia.org/wikipedia/commons/thumb/c/ca/LinkedIn_logo_initials.png/640px-LinkedIn_logo_initials.png?raw=True\" width=\"42\" height=\"42\" align=\"right\"/>\n",
    "</a>\n",
    "<a href = \"https://medium.com/@alexcaian\" target=\"_blank\">\n",
    "    <img src = \"https://miro.medium.com/v2/resize:fit:8978/1*s986xIGqhfsN8U--09_AdA.png?raw=True\" width=\"150\" height=\"122\" align=\"right\"/>\n",
    "</a>\n",
    "\n",
    "This work is related to the [Your first Plotly animation](https://medium.com/@alexcaian/your-first-plotly-animation-in-3-quick-steps-6cc50e380ce6) blogpost on Medium. \n",
    "\n",
    "~~~~~~\n",
    "\n",
    "This takes you step by step through all the code used to display the various stages of our animation creation in the blog. Relevant links are also provided explaining which step belongs to which figure. Enjoy ^_^"
   ]
  },
  {
   "cell_type": "code",
   "execution_count": null,
   "id": "65c65d4a",
   "metadata": {},
   "outputs": [],
   "source": [
    "## Plotly's GO!\n",
    "import plotly.graph_objects as go"
   ]
  },
  {
   "cell_type": "markdown",
   "id": "6a7fff2f",
   "metadata": {},
   "source": [
    "### Viz 1: Static image\n",
    "\n",
    "Image referenced as **(Fig 1)** in the [blogpost](https://medium.com/@alexcaian/your-first-plotly-animation-in-3-quick-steps-6cc50e380ce6). \n",
    "\n",
    "[Link to image displayed.](https://github.com/Alex-Caian/Plotly_demo/blob/main/Images/Scatter1.png)\n",
    "\n",
    "Description:\n",
    "> Scattergraph produced from running the code above, using Plotly."
   ]
  },
  {
   "cell_type": "code",
   "execution_count": null,
   "id": "f456ae07",
   "metadata": {},
   "outputs": [],
   "source": [
    "# Sample data\n",
    "x = [1, 2, 3, 4, 5]\n",
    "y = [10, 5, 8, 2, 7]\n",
    "labels = [\"Start\", \"B\", \"C\", \"D\", \"E\"]\n",
    "\n",
    "# Create a scatter plot using go.Figure()\n",
    "fig = go.Figure(\n",
    "    data = go.Scatter(\n",
    "        {'x':x, \n",
    "        'y':y, \n",
    "        'mode':'lines+markers+text', \n",
    "        'text':labels, \n",
    "        'textposition':'top center'}\n",
    "    ),\n",
    "    layout = go.Layout(\n",
    "    {'title':'My first plot', 'title_x':.5})\n",
    "    )\n",
    "\n",
    "fig.show()"
   ]
  },
  {
   "cell_type": "markdown",
   "id": "1c5f751f",
   "metadata": {},
   "source": [
    "Altenative solution - updating the Figure as we go:"
   ]
  },
  {
   "cell_type": "code",
   "execution_count": null,
   "id": "4a5a9fde",
   "metadata": {},
   "outputs": [],
   "source": [
    "''' Add scatter trace to the figure '''\n",
    "# fig.add_trace(go.Scatter(x=x, y=y, mode='lines+markers+text', text=labels, textposition='top center'))\n",
    "\n",
    "''' Update layout '''\n",
    "# fig.update_layout(title=\"My first plot\")\n",
    "\n",
    "''' Show the output '''\n",
    "# fig.show()"
   ]
  },
  {
   "cell_type": "markdown",
   "id": "ffdce1c9",
   "metadata": {},
   "source": [
    "### Viz 2: Combined traces\n",
    "\n",
    "Image referenced as **(Fig 2)** in the [blogpost](https://medium.com/@alexcaian/your-first-plotly-animation-in-3-quick-steps-6cc50e380ce6). \n",
    "\n",
    "[Link to image displayed.](https://github.com/Alex-Caian/Plotly_demo/blob/main/Images/Combined_traces.png)\n",
    "\n",
    "Description:\n",
    "> Single Plotly frame, containing 3 separate traces: Two scatters and 1 barchart"
   ]
  },
  {
   "cell_type": "code",
   "execution_count": null,
   "id": "05083d98",
   "metadata": {},
   "outputs": [],
   "source": [
    "## Barchart trace\n",
    "bar = go.Bar(x = ['Bar 1', 'Bar 2', 'Bar 3'], y = [20, 15, 18])\n",
    "## Scatter trace 1\n",
    "sc = go.Scatter(\n",
    "        {'x':x, \n",
    "        'y':y, \n",
    "        'mode':'lines+markers+text', \n",
    "        'text':labels, \n",
    "        'textposition':'top center',\n",
    "        'line':{'color':'green'}}\n",
    "        \n",
    "    )\n",
    "## Scatter trace 2\n",
    "sc2 = go.Scatter(\n",
    "        {'x': [1,2,3,4,5],\n",
    "         'y':[10,13,15,17,16],\n",
    "         'mode':'lines+markers+text',\n",
    "         'text':['Start', '2', '3', '4', '5'],\n",
    "         'textposition':'top center',\n",
    "         'line': {'color':'red'}\n",
    "        })"
   ]
  },
  {
   "cell_type": "code",
   "execution_count": null,
   "id": "2967f4a1",
   "metadata": {},
   "outputs": [],
   "source": [
    "## Figure created & displayed\n",
    "fig = go.Figure(data = [bar, sc, sc2])\n",
    "fig.update_layout(title = \"Combined traces\", title_x = .5)\n",
    "fig.show()"
   ]
  },
  {
   "cell_type": "markdown",
   "id": "43d2d16b",
   "metadata": {},
   "source": [
    "### Viz 3: My first animation\n",
    "\n",
    "Animation referenced as **(Fig 3)** in the [blogpost](https://medium.com/@alexcaian/your-first-plotly-animation-in-3-quick-steps-6cc50e380ce6).\n",
    "\n",
    "[Link to video displayed](https://www.veed.io/view/1e5a2885-a50f-4d69-af8a-6ec2907ac5bd?panel=share&sharingWidget=true)\n",
    "\n",
    "Description:\n",
    "> Screen capture for our first animation, containing 3 separate frames with 1 trace each."
   ]
  },
  {
   "cell_type": "code",
   "execution_count": null,
   "id": "8d69f0fa",
   "metadata": {},
   "outputs": [],
   "source": [
    "## Generate figure and frames\n",
    "fig = go.Figure(data = go.Bar(),\n",
    "                layout = ({'title':'My first animation', 'title_x':.5}),\n",
    "               frames = [go.Frame(data=x) for x in (bar,sc,sc2)])"
   ]
  },
  {
   "cell_type": "code",
   "execution_count": null,
   "id": "47654587",
   "metadata": {},
   "outputs": [],
   "source": [
    "## Define Play button\n",
    "play_button = dict(label=\"Play\", method=\"animate\", visible=True,\n",
    "            args=[None, {'frame': {'duration': 2000, 'redraw': True, 'mode':'immediate'}, 'fromcurrent':True}])\n",
    "\n",
    "## Add button to the layout\n",
    "fig.update_layout(go.Layout(updatemenus = [{\n",
    "                \"type\":\"buttons\",\n",
    "                \"showactive\" : False,\n",
    "                \"buttons\": [play_button] }],\n",
    "                xaxis = {'range':[-1,5]},\n",
    "                yaxis = {'range':[1,22]}\n",
    "                           )\n",
    "                 )\n",
    "## Display figure\n",
    "fig.show()"
   ]
  },
  {
   "cell_type": "markdown",
   "id": "45658fd5",
   "metadata": {},
   "source": [
    "### Viz 4: Final animation\n",
    "\n",
    "Animation referenced as **(Fig 4)** in the [blogpost](https://medium.com/@alexcaian/your-first-plotly-animation-in-3-quick-steps-6cc50e380ce6).\n",
    "\n",
    "[Link to video displayed](https://www.veed.io/view/b502f93a-33a9-4faf-a23c-c8273b6cf33e?panel=share)\n",
    "\n",
    "Description:\n",
    "> Screen capture for our first animation, containing 3 separate frames with 1 trace each."
   ]
  },
  {
   "cell_type": "code",
   "execution_count": null,
   "id": "9ade96f1",
   "metadata": {},
   "outputs": [],
   "source": [
    "## Define a Pause button\n",
    "pause_button = dict(label='Pause', method='animate', visible = True, ## Pause button - Unecessary\n",
    "            args=[(), {'frame': {'duration': 0, 'redraw': False}, 'mode': 'immediate'}])"
   ]
  },
  {
   "cell_type": "code",
   "execution_count": null,
   "id": "6cbac4ba",
   "metadata": {},
   "outputs": [],
   "source": [
    "''' Re-define all 3 traces'''\n",
    "## Trace 1: Barchart\n",
    "bar = go.Bar(x = ['Category A', 'Category B', 'Category C'], y = [20, 15, 18], name=\"Analysis of A,B,C\", showlegend=True)\n",
    "## Trace 2: Scatterplot (first)\n",
    "sc = go.Scatter(\n",
    "        {'x':x, \n",
    "        'y':y, \n",
    "        'mode':'lines+markers+text', \n",
    "        'text':labels, \n",
    "        'textposition':'top center',\n",
    "        'line':{'color':'green'},\n",
    "        'name':\"5 stages evolution\",\n",
    "        \"showlegend\":True}\n",
    "        \n",
    "    )\n",
    "## Trace 3: Scatterplot (second)\n",
    "sc2 = go.Scatter(\n",
    "        {'x': [1,2,3,4,5],\n",
    "         'y':[10,13,15,17,16],\n",
    "         'mode':'lines+markers+text',\n",
    "         'text':['Start', '2', '3', '4', '5'],\n",
    "         'textposition':'top center',\n",
    "         'line': {'color':'red'},\n",
    "         \"name\":\"5 stages evolution\",\n",
    "         \"showlegend\":True\n",
    "        })"
   ]
  },
  {
   "cell_type": "code",
   "execution_count": null,
   "id": "cc1bba85",
   "metadata": {},
   "outputs": [],
   "source": [
    "## Define frames, titles and annotations for each frame\n",
    "frames = (bar,sc,sc2)\n",
    "titles = (\"Barchart with 3 categories\", \"Product one scattergraph\", \"Product two scattergraph\")\n",
    "annots = (\"We can see Category A<br> scored the highest, whilst<br>Category B scored the lowest\",\n",
    "         \"Product one scored its highest<br>at the very start of the tracking,<br> i.e. stage 1\",\n",
    "         \"Product two on the other hand<br>saw a steady increase throughout<br> all stages, peaking at stage 4\")\n",
    "\n",
    "## Define initial figure with frames and some frame layout settings\n",
    "fig = go.Figure(data = go.Bar(),\n",
    "                layout = ({'title':'My first animation', 'title_x':.5}),\n",
    "               frames = [go.Frame(data=frames[i],\n",
    "                                 layout = ({'title':f'Frame {i+1}: {titles[i]}', 'title_x':.5,\n",
    "                                           'annotations':[{'text': annots[i],\n",
    "                                                          'showarrow':False,\n",
    "                                                          'x':5.5,\n",
    "                                                          'y':7.7,\n",
    "                                                          'borderwidth':.5,\n",
    "                                                          'bordercolor':'#000000',\n",
    "                                                          'font':{'size':14}}]})\n",
    "                                 \n",
    "                                 ) for i in range(len(frames))])\n",
    "## Add buttons to the figure\n",
    "fig.update_layout(go.Layout(updatemenus = [{\n",
    "                \"type\":\"buttons\",\n",
    "                \"showactive\" : True,\n",
    "                \"buttons\": [play_button, pause_button] }],\n",
    "                xaxis = {'range':[-1,7]},\n",
    "                yaxis = {'range':[1,22]}\n",
    "                           )\n",
    "                 )\n",
    "## Display the figure\n",
    "fig.show()"
   ]
  },
  {
   "cell_type": "markdown",
   "id": "ee621069",
   "metadata": {},
   "source": [
    "<a href = \"https://github.com/Alex-Caian/\" target=\"_blank\">\n",
    "    <img src = \"https://foundations.projectpythia.org/_images/GitHub-logo.png?raw=True\" width=\"75\" height=\"75\" align=\"left\"/>\n",
    "</a>\n",
    "<a href = \"https://www.linkedin.com/in/alex-caian-1519b4223/\" target=\"_blank\">\n",
    "    <img src = \"https://upload.wikimedia.org/wikipedia/commons/thumb/c/ca/LinkedIn_logo_initials.png/640px-LinkedIn_logo_initials.png?raw=True\" width=\"42\" height=\"42\" align=\"left\"/>\n",
    "</a>\n",
    "<a href = \"https://medium.com/@alexcaian\" target=\"_blank\">\n",
    "    <img src = \"https://miro.medium.com/v2/resize:fit:8978/1*s986xIGqhfsN8U--09_AdA.png?raw=True\" width=\"150\" height=\"122\" align=\"left\"/>\n",
    "</a>"
   ]
  }
 ],
 "metadata": {
  "kernelspec": {
   "display_name": "Python 3 (ipykernel)",
   "language": "python",
   "name": "python3"
  },
  "language_info": {
   "codemirror_mode": {
    "name": "ipython",
    "version": 3
   },
   "file_extension": ".py",
   "mimetype": "text/x-python",
   "name": "python",
   "nbconvert_exporter": "python",
   "pygments_lexer": "ipython3",
   "version": "3.9.17"
  }
 },
 "nbformat": 4,
 "nbformat_minor": 5
}
