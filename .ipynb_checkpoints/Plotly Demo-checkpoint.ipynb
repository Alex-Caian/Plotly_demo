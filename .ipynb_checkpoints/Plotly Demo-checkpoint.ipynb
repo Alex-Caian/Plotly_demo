{
 "cells": [
  {
   "cell_type": "markdown",
   "id": "ee621069",
   "metadata": {},
   "source": [
    "<a href = \"https://github.com/Alex-Caian/\" target=\"_blank\">\n",
    "    <img src = \"https://foundations.projectpythia.org/_images/GitHub-logo.png?raw=True\" width=\"75\" height=\"75\" align=\"right\"/>\n",
    "</a>\n",
    "<a href = \"https://www.linkedin.com/in/alex-caian-1519b4223/\" target=\"_blank\">\n",
    "    <img src = \"https://upload.wikimedia.org/wikipedia/commons/thumb/c/ca/LinkedIn_logo_initials.png/640px-LinkedIn_logo_initials.png?raw=True\" width=\"42\" height=\"42\" align=\"right\"/>\n",
    "</a>\n",
    "<a href = \"https://medium.com/@alexcaian\" target=\"_blank\">\n",
    "    <img src = \"https://miro.medium.com/v2/resize:fit:8978/1*s986xIGqhfsN8U--09_AdA.png?raw=True\" width=\"150\" height=\"122\" align=\"right\"/>\n",
    "</a>"
   ]
  },
  {
   "cell_type": "code",
   "execution_count": null,
   "id": "65c65d4a",
   "metadata": {},
   "outputs": [],
   "source": []
  }
 ],
 "metadata": {
  "kernelspec": {
   "display_name": "Python 3 (ipykernel)",
   "language": "python",
   "name": "python3"
  },
  "language_info": {
   "codemirror_mode": {
    "name": "ipython",
    "version": 3
   },
   "file_extension": ".py",
   "mimetype": "text/x-python",
   "name": "python",
   "nbconvert_exporter": "python",
   "pygments_lexer": "ipython3",
   "version": "3.9.12"
  }
 },
 "nbformat": 4,
 "nbformat_minor": 5
}
